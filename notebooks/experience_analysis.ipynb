{
    "cells": [
        {
            "cell_type": "markdown",
            "metadata": {},
            "source": [
                "# Wuzzuf Job Market Analysis - Experience Requirements Analysis\n",
                "\n",
                "This notebook analyzes the distribution of experience level requirements in the Wuzzuf job market data.\n",
                "\n",
                "## Business Question:\n",
                "**What is the distribution of experience level requirements across job postings?**\n",
                "\n",
                "This analysis examines how job postings are distributed across Entry (0-2 years), Mid (3-5 years), and Senior (6+ years) experience levels, providing insights into market demand patterns and hiring trends across industries and roles."
            ]
        },
        {
            "cell_type": "code",
            "execution_count": 1,
            "metadata": {},
            "outputs": [
                {
                    "name": "stdout",
                    "output_type": "stream",
                    "text": [
                        "Libraries imported successfully\n",
                        "Charts will be saved to: c:\\Users\\hp\\Downloads\\wuzuf-analysis\\notebooks\\..\\assets\\charts\n"
                    ]
                }
            ],
            "source": [
                "# Import required libraries\n",
                "import pandas as pd\n",
                "import numpy as np\n",
                "import matplotlib.pyplot as plt\n",
                "import seaborn as sns\n",
                "import warnings\n",
                "import sys\n",
                "import os\n",
                "from pathlib import Path\n",
                "\n",
                "# Add sql directory to path for database utilities\n",
                "sys.path.append('../sql')\n",
                "from database_setup import DatabaseManager\n",
                "\n",
                "# Configure display and warnings\n",
                "pd.set_option('display.max_columns', None)\n",
                "pd.set_option('display.max_rows', 20)\n",
                "warnings.filterwarnings('ignore')\n",
                "\n",
                "# Set up plotting style\n",
                "plt.style.use('default')\n",
                "sns.set_palette(\"husl\")\n",
                "\n",
                "# Create charts directory if it doesn't exist\n",
                "charts_dir = Path('../assets/charts')\n",
                "charts_dir.mkdir(parents=True, exist_ok=True)\n",
                "\n",
                "print(\"Libraries imported successfully\")\n",
                "print(f\"Charts will be saved to: {charts_dir.absolute()}\")"
            ]
        },
        {
            "cell_type": "code",
            "execution_count": 2,
            "metadata": {},
            "outputs": [
                {
                    "name": "stderr",
                    "output_type": "stream",
                    "text": [
                        "2025-08-14 22:57:29,968 - INFO - Database connection established successfully\n"
                    ]
                },
                {
                    "name": "stdout",
                    "output_type": "stream",
                    "text": [
                        "Connecting to PostgreSQL database...\n",
                        "✅ Connected to database: wuzzuf\n",
                        "📊 Tables available: 6\n"
                    ]
                }
            ],
            "source": [
                "# Initialize database connection\n",
                "print(\"Connecting to PostgreSQL database...\")\n",
                "\n",
                "try:\n",
                "    db_manager = DatabaseManager()\n",
                "    engine = db_manager.get_engine()\n",
                "    \n",
                "    # Test connection\n",
                "    status = db_manager.test_connection()\n",
                "    print(f\"✅ Connected to database: {status['database']}\")\n",
                "    print(f\"📊 Tables available: {status['table_count']}\")\n",
                "    \n",
                "except Exception as e:\n",
                "    print(f\"❌ Database connection failed: {e}\")\n",
                "    print(\"Please ensure PostgreSQL is running and database is set up correctly\")\n",
                "    raise"
            ]
        },
        {
            "cell_type": "markdown",
            "metadata": {},
            "source": [
                "## Analysis: Experience Level Distribution\n",
                "\n",
                "This analysis examines the distribution of job postings across different experience levels and provides insights into market demand patterns."
            ]
        },
        {
            "cell_type": "code",
            "execution_count": 3,
            "metadata": {},
            "outputs": [
                {
                    "name": "stdout",
                    "output_type": "stream",
                    "text": [
                        "🔍 Analysis: Experience Level Distribution\n",
                        "==================================================\n",
                        "📊 Experience Level Distribution:\n",
                        "experience_level  posting_count  percentage\n",
                        "             Mid          12884       51.30\n",
                        "          Senior           7005       27.89\n",
                        "           Entry           5225       20.81\n"
                    ]
                }
            ],
            "source": [
                "# SQL query for experience level distribution with percentages\n",
                "experience_distribution_query = \"\"\"\n",
                "SELECT \n",
                "    experience_level,\n",
                "    COUNT(*) as posting_count,\n",
                "    ROUND(COUNT(*) * 100.0 / (SELECT COUNT(*) FROM jobs WHERE experience_level IS NOT NULL), 2) as percentage\n",
                "FROM jobs \n",
                "WHERE experience_level IS NOT NULL \n",
                "    AND experience_level != ''\n",
                "GROUP BY experience_level \n",
                "ORDER BY posting_count DESC;\n",
                "\"\"\"\n",
                "\n",
                "# Execute query and display results\n",
                "print(\"🔍 Analysis: Experience Level Distribution\")\n",
                "print(\"=\" * 50)\n",
                "\n",
                "experience_dist_df = pd.read_sql(experience_distribution_query, engine)\n",
                "print(\"📊 Experience Level Distribution:\")\n",
                "print(experience_dist_df.to_string(index=False))\n",
                "\n",
                "# Store for visualization\n",
                "experience_summary = experience_dist_df.head(10)  # Limit to max 10 rows as per requirements"
            ]
        },
        {
            "cell_type": "code",
            "execution_count": 4,
            "metadata": {},
            "outputs": [
                {
                    "name": "stdout",
                    "output_type": "stream",
                    "text": [
                        "\n",
                        "--------------------------------------------------\n",
                        "🏢 Experience Distribution by Industry:\n",
                        "                     industry experience_level  posting_count  percentage_within_industry\n",
                        "              2 school alumni              Mid              4                       80.00\n",
                        "              2 school alumni           Senior              1                       20.00\n",
                        "                   accounting              Mid             10                       76.92\n",
                        "                   accounting           Senior              3                       23.08\n",
                        "            airlines/aviation            Entry              3                       60.00\n",
                        "            airlines/aviation           Senior              2                       40.00\n",
                        "            apparel & fashion              Mid             25                       59.52\n",
                        "            apparel & fashion            Entry             12                       28.57\n",
                        "            apparel & fashion           Senior              5                       11.90\n",
                        "      architecture & planning              Mid              1                      100.00\n",
                        "                   automotive              Mid             37                       46.25\n",
                        "                   automotive            Entry             33                       41.25\n",
                        "                   automotive           Senior             10                       12.50\n",
                        "         aviation & aerospace              Mid             13                       54.17\n",
                        "         aviation & aerospace            Entry             10                       41.67\n",
                        "         aviation & aerospace           Senior              1                        4.17\n",
                        "                      banking              Mid             32                       47.06\n",
                        "                      banking            Entry             30                       44.12\n",
                        "                      banking           Senior              6                        8.82\n",
                        "                biotechnology              Mid             76                       48.41\n",
                        "                biotechnology            Entry             45                       28.66\n",
                        "                biotechnology           Senior             36                       22.93\n",
                        "              broadcast media              Mid             12                       66.67\n",
                        "              broadcast media            Entry              5                       27.78\n",
                        "              broadcast media           Senior              1                        5.56\n",
                        "           building materials              Mid              6                      100.00\n",
                        "business supplies & equipment           Senior              6                       66.67\n",
                        "business supplies & equipment              Mid              2                       22.22\n",
                        "business supplies & equipment            Entry              1                       11.11\n",
                        "              capital markets              Mid              2                       50.00\n"
                    ]
                }
            ],
            "source": [
                "# Experience analysis by industry breakdown\n",
                "print(\"\\n\" + \"-\" * 50)\n",
                "print(\"🏢 Experience Distribution by Industry:\")\n",
                "\n",
                "experience_by_industry_query = \"\"\"\n",
                "SELECT \n",
                "    c.industry,\n",
                "    j.experience_level,\n",
                "    COUNT(*) as posting_count,\n",
                "    ROUND(COUNT(*) * 100.0 / SUM(COUNT(*)) OVER (PARTITION BY c.industry), 2) as percentage_within_industry\n",
                "FROM jobs j\n",
                "JOIN companies c ON j.company_id = c.company_id\n",
                "WHERE j.experience_level IS NOT NULL \n",
                "    AND j.experience_level != ''\n",
                "    AND c.industry IS NOT NULL \n",
                "    AND c.industry != ''\n",
                "GROUP BY c.industry, j.experience_level\n",
                "ORDER BY c.industry, posting_count DESC\n",
                "LIMIT 30;\n",
                "\"\"\"\n",
                "\n",
                "experience_by_industry_df = pd.read_sql(experience_by_industry_query, engine)\n",
                "print(experience_by_industry_df.to_string(index=False))"
            ]
        },
        {
            "cell_type": "code",
            "execution_count": 5,
            "metadata": {},
            "outputs": [
                {
                    "name": "stdout",
                    "output_type": "stream",
                    "text": [
                        "\n",
                        "--------------------------------------------------\n",
                        "👔 Experience Distribution by Top Job Roles:\n",
                        "        job_title experience_level  posting_count  percentage_within_role\n",
                        " business analyst              Mid           1306                   65.01\n",
                        " business analyst           Senior            471                   23.44\n",
                        " business analyst            Entry            232                   11.55\n",
                        "    data engineer              Mid           1617                   46.71\n",
                        "    data engineer           Senior           1221                   35.27\n",
                        "    data engineer            Entry            624                   18.02\n",
                        "   data scientist              Mid            929                   46.47\n",
                        "   data scientist           Senior            666                   33.32\n",
                        "   data scientist            Entry            404                   20.21\n",
                        "        developer              Mid            641                   42.68\n",
                        "        developer           Senior            530                   35.29\n",
                        "        developer            Entry            331                   22.04\n",
                        "software engineer              Mid           4005                   49.37\n",
                        "software engineer            Entry           2103                   25.92\n",
                        "software engineer           Senior           2004                   24.70\n"
                    ]
                }
            ],
            "source": [
                "# Experience analysis by role breakdown\n",
                "print(\"\\n\" + \"-\" * 50)\n",
                "print(\"👔 Experience Distribution by Top Job Roles:\")\n",
                "\n",
                "experience_by_role_query = \"\"\"\n",
                "WITH top_roles AS (\n",
                "    SELECT job_title\n",
                "    FROM jobs \n",
                "    WHERE job_title IS NOT NULL AND job_title != ''\n",
                "    GROUP BY job_title\n",
                "    ORDER BY COUNT(*) DESC\n",
                "    LIMIT 5\n",
                ")\n",
                "SELECT \n",
                "    j.job_title,\n",
                "    j.experience_level,\n",
                "    COUNT(*) as posting_count,\n",
                "    ROUND(COUNT(*) * 100.0 / SUM(COUNT(*)) OVER (PARTITION BY j.job_title), 2) as percentage_within_role\n",
                "FROM jobs j\n",
                "JOIN top_roles tr ON j.job_title = tr.job_title\n",
                "WHERE j.experience_level IS NOT NULL \n",
                "    AND j.experience_level != ''\n",
                "GROUP BY j.job_title, j.experience_level\n",
                "ORDER BY j.job_title, posting_count DESC;\n",
                "\"\"\"\n",
                "\n",
                "experience_by_role_df = pd.read_sql(experience_by_role_query, engine)\n",
                "print(experience_by_role_df.to_string(index=False))"
            ]
        },
        {
            "cell_type": "code",
            "execution_count": 6,
            "metadata": {},
            "outputs": [
                {
                    "name": "stdout",
                    "output_type": "stream",
                    "text": [
                        "\n",
                        "==================================================\n",
                        "📈 Creating Experience Distribution Visualization...\n",
                        "✅ Chart saved to: ..\\assets\\charts\\experience_distribution.png\n"
                    ]
                },
                {
                    "data": {
                        "image/png": "[encoded data removed]",
                        "text/plain": [
                            "<Figure size 1000x800 with 1 Axes>"
                        ]
                    },
                    "metadata": {},
                    "output_type": "display_data"
                }
            ],
            "source": [
                "# Create donut chart visualization for experience distribution\n",
                "print(\"\\n\" + \"=\" * 50)\n",
                "print(\"📈 Creating Experience Distribution Visualization...\")\n",
                "\n",
                "# Prepare data for donut chart\n",
                "fig, ax = plt.subplots(figsize=(10, 8))\n",
                "\n",
                "# Create donut chart\n",
                "colors = ['#FF6B6B', '#4ECDC4', '#45B7D1', '#96CEB4', '#FFEAA7']\n",
                "wedges, texts, autotexts = ax.pie(\n",
                "    experience_summary['posting_count'], \n",
                "    labels=experience_summary['experience_level'],\n",
                "    autopct='%1.1f%%',\n",
                "    startangle=90,\n",
                "    colors=colors[:len(experience_summary)],\n",
                "    wedgeprops=dict(width=0.5),  # Creates donut effect\n",
                "    textprops={'fontsize': 12}\n",
                ")\n",
                "\n",
                "# Customize the chart\n",
                "ax.set_title('Experience Level Distribution in Job Postings', \n",
                "             fontsize=16, fontweight='bold', pad=20)\n",
                "\n",
                "# Add center text\n",
                "total_postings = experience_summary['posting_count'].sum()\n",
                "ax.text(0, 0, f'Total\\n{total_postings:,}\\nPostings', \n",
                "        horizontalalignment='center', verticalalignment='center',\n",
                "        fontsize=14, fontweight='bold')\n",
                "\n",
                "# Make percentage text bold\n",
                "for autotext in autotexts:\n",
                "    autotext.set_color('white')\n",
                "    autotext.set_fontweight('bold')\n",
                "\n",
                "plt.tight_layout()\n",
                "\n",
                "# Save the chart\n",
                "chart_path = charts_dir / 'experience_distribution.png'\n",
                "plt.savefig(chart_path, dpi=300, bbox_inches='tight', facecolor='white')\n",
                "print(f\"✅ Chart saved to: {chart_path}\")\n",
                "\n",
                "plt.show()"
            ]
        },
        {
            "cell_type": "code",
            "execution_count": 7,
            "metadata": {},
            "outputs": [
                {
                    "name": "stdout",
                    "output_type": "stream",
                    "text": [
                        "\n",
                        "==================================================\n",
                        "💡 Business Insights - Experience Requirements Analysis\n",
                        "==================================================\n",
                        "1. The Mid level dominates the job market with 12,884 postings (51.3% of all jobs), indicating strong demand for professionals at this experience tier.\n",
                        "2. Senior positions (7,005 jobs) outnumber entry-level opportunities (5,225 jobs) by 1.3x, indicating higher demand for experienced professionals.\n",
                        "3. The top two experience levels account for 79.2% of all job postings, showing concentrated demand in specific experience segments rather than even distribution across all levels.\n",
                        "\n",
                        "==================================================\n",
                        "✅ Experience Requirements Analysis Complete\n",
                        "==================================================\n"
                    ]
                }
            ],
            "source": [
                "# Generate business insights\n",
                "print(\"\\n\" + \"=\" * 50)\n",
                "print(\"💡 Business Insights - Experience Requirements Analysis\")\n",
                "print(\"=\" * 50)\n",
                "\n",
                "# Calculate key metrics\n",
                "total_jobs = experience_summary['posting_count'].sum()\n",
                "top_experience_level = experience_summary.iloc[0]\n",
                "entry_level_jobs = experience_summary[experience_summary['experience_level'] == 'Entry']['posting_count'].sum() if 'Entry' in experience_summary['experience_level'].values else 0\n",
                "senior_level_jobs = experience_summary[experience_summary['experience_level'] == 'Senior']['posting_count'].sum() if 'Senior' in experience_summary['experience_level'].values else 0\n",
                "\n",
                "insights = []\n",
                "\n",
                "# Insight 1: Most common experience level\n",
                "insights.append(f\"The {top_experience_level['experience_level']} level dominates the job market with {top_experience_level['posting_count']:,} postings ({top_experience_level['percentage']:.1f}% of all jobs), indicating strong demand for professionals at this experience tier.\")\n",
                "\n",
                "# Insight 2: Entry vs Senior comparison\n",
                "if entry_level_jobs > 0 and senior_level_jobs > 0:\n",
                "    ratio = entry_level_jobs / senior_level_jobs\n",
                "    if ratio > 1:\n",
                "        insights.append(f\"Entry-level opportunities ({entry_level_jobs:,} jobs) outnumber senior positions ({senior_level_jobs:,} jobs) by {ratio:.1f}x, suggesting a market focused on building junior talent pipelines.\")\n",
                "    else:\n",
                "        insights.append(f\"Senior positions ({senior_level_jobs:,} jobs) outnumber entry-level opportunities ({entry_level_jobs:,} jobs) by {1/ratio:.1f}x, indicating higher demand for experienced professionals.\")\n",
                "\n",
                "# Insight 3: Market distribution pattern\n",
                "if len(experience_summary) >= 2:\n",
                "    top_two_percentage = experience_summary.head(2)['percentage'].sum()\n",
                "    insights.append(f\"The top two experience levels account for {top_two_percentage:.1f}% of all job postings, showing concentrated demand in specific experience segments rather than even distribution across all levels.\")\n",
                "\n",
                "# Print insights\n",
                "for i, insight in enumerate(insights, 1):\n",
                "    print(f\"{i}. {insight}\")\n",
                "\n",
                "print(\"\\n\" + \"=\" * 50)\n",
                "print(\"✅ Experience Requirements Analysis Complete\")\n",
                "print(\"=\" * 50)"
            ]
        }
    ],
    "metadata": {
        "kernelspec": {
            "display_name": "Python 3",
            "language": "python",
            "name": "python3"
        },
        "language_info": {
            "codemirror_mode": {
                "name": "ipython",
                "version": 3
            },
            "file_extension": ".py",
            "mimetype": "text/x-python",
            "name": "python",
            "nbconvert_exporter": "python",
            "pygments_lexer": "ipython3",
            "version": "3.10.0"
        }
    },
    "nbformat": 4,
    "nbformat_minor": 4
}
