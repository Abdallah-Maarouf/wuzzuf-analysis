{
    "cells": [
        {
            "cell_type": "markdown",
            "metadata": {},
            "source": [
                "# Data Cleaning Pipeline\n",
                "\n",
                "This notebook implements the data cleaning pipeline for the Wuzzuf job postings dataset.\n",
                "It includes functions for loading, cleaning, and preprocessing the raw data."
            ]
        },
        {
            "cell_type": "code",
            "execution_count": 1,
            "metadata": {},
            "outputs": [
                {
                    "name": "stdout",
                    "output_type": "stream",
                    "text": [
                        "Libraries imported successfully\n"
                    ]
                }
            ],
            "source": [
                "import pandas as pd\n",
                "import numpy as np\n",
                "from datetime import datetime\n",
                "import warnings\n",
                "warnings.filterwarnings('ignore')\n",
                "\n",
                "print(\"Libraries imported successfully\")"
            ]
        },
        {
            "cell_type": "markdown",
            "metadata": {},
            "source": [
                "## Task 2.1: Data Loading and Initial Cleaning Functions"
            ]
        },
        {
            "cell_type": "code",
            "execution_count": null,
            "metadata": {},
            "outputs": [],
            "source": [
                "def load_csv(file_path):\n",
                "    \"\"\"\n",
                "    Load CSV file with proper encoding handling.\n",
                "    \n",
                "    Args:\n",
                "        file_path (str): Path to the CSV file\n",
                "        \n",
                "    Returns:\n",
                "        pd.DataFrame: Loaded dataframe\n",
                "    \"\"\"\n",
                "    try:\n",
                "        # Try UTF-8 encoding first\n",
                "        df = pd.read_csv(file_path, encoding='utf-8')\n",
                "        print(f\"Successfully loaded {file_path} with UTF-8 encoding\")\n",
                "    except UnicodeDecodeError:\n",
                "        try:\n",
                "            # Fallback to latin-1 encoding\n",
                "            df = pd.read_csv(file_path, encoding='latin-1')\n",
                "            print(f\"Successfully loaded {file_path} with latin-1 encoding\")\n",
                "        except Exception as e:\n",
                "            print(f\"Error loading file: {e}\")\n",
                "            return None\n",
                "    \n",
                "    print(f\"Dataset shape: {df.shape}\")\n",
                "    print(f\"Columns: {list(df.columns)}\")\n",
                "    \n",
                "    return df"
            ]
        },
        {
            "cell_type": "code",
            "execution_count": null,
            "metadata": {},
            "outputs": [],
            "source": [
                "def remove_unnecessary_columns(df):\n",
                "    \"\"\"\n",
                "    Remove unnecessary columns like 'Unnamed: 0' and other index columns.\n",
                "    \n",
                "    Args:\n",
                "        df (pd.DataFrame): Input dataframe\n",
                "        \n",
                "    Returns:\n",
                "        pd.DataFrame: Dataframe with unnecessary columns removed\n",
                "    \"\"\"\n",
                "    original_cols = len(df.columns)\n",
                "    \n",
                "    # Remove columns that start with 'Unnamed:' (typically index columns)\n",
                "    cols_to_remove = [col for col in df.columns if col.startswith('Unnamed:')]\n",
                "    \n",
                "    # Also remove the first column if it's just an index (contains only integers)\n",
                "    if len(df.columns) > 0:\n",
                "        first_col = df.columns[0]\n",
                "        if first_col not in cols_to_remove and df[first_col].dtype in ['int64', 'float64']:\n",
                "            # Check if it's likely an index column (sequential numbers)\n",
                "            if df[first_col].nunique() == len(df) and df[first_col].min() == 0:\n",
                "                cols_to_remove.append(first_col)\n",
                "    \n",
                "    if cols_to_remove:\n",
                "        df = df.drop(columns=cols_to_remove)\n",
                "        print(f\"Removed {len(cols_to_remove)} unnecessary columns: {cols_to_remove}\")\n",
                "    else:\n",
                "        print(\"No unnecessary columns found to remove\")\n",
                "    \n",
                "    print(f\"Columns reduced from {original_cols} to {len(df.columns)}\")\n",
                "    \n",
                "    return df"
            ]
        },
        {
            "cell_type": "code",
            "execution_count": null,
            "metadata": {},
            "outputs": [],
            "source": [
                "def remove_duplicates(df, id_column='Job Posting ID'):\n",
                "    \"\"\"\n",
                "    Remove duplicate records based on Job Posting ID.\n",
                "    \n",
                "    Args:\n",
                "        df (pd.DataFrame): Input dataframe\n",
                "        id_column (str): Column name to check for duplicates\n",
                "        \n",
                "    Returns:\n",
                "        pd.DataFrame: Dataframe with duplicates removed\n",
                "    \"\"\"\n",
                "    original_rows = len(df)\n",
                "    \n",
                "    if id_column not in df.columns:\n",
                "        print(f\"Warning: {id_column} column not found. Available columns: {list(df.columns)}\")\n",
                "        return df\n",
                "    \n",
                "    # Check for duplicates\n",
                "    duplicates = df.duplicated(subset=[id_column], keep='first')\n",
                "    duplicate_count = duplicates.sum()\n",
                "    \n",
                "    if duplicate_count > 0:\n",
                "        df = df[~duplicates].copy()\n",
                "        print(f\"Removed {duplicate_count} duplicate records based on {id_column}\")\n",
                "    else:\n",
                "        print(f\"No duplicates found based on {id_column}\")\n",
                "    \n",
                "    print(f\"Rows reduced from {original_rows} to {len(df)}\")\n",
                "    \n",
                "    return df"
            ]
        },
        {
            "cell_type": "code",
            "execution_count": null,
            "metadata": {},
            "outputs": [],
            "source": [
                "def parse_dates(df, date_column='Job Posting Date'):\n",
                "    \"\"\"\n",
                "    Parse Job Posting Date into datetime format and extract year and month columns.\n",
                "    \n",
                "    Args:\n",
                "        df (pd.DataFrame): Input dataframe\n",
                "        date_column (str): Column name containing dates\n",
                "        \n",
                "    Returns:\n",
                "        pd.DataFrame: Dataframe with parsed dates and extracted year/month columns\n",
                "    \"\"\"\n",
                "    if date_column not in df.columns:\n",
                "        print(f\"Warning: {date_column} column not found. Available columns: {list(df.columns)}\")\n",
                "        return df\n",
                "    \n",
                "    original_nulls = df[date_column].isnull().sum()\n",
                "    \n",
                "    # Parse dates with error handling\n",
                "    df[date_column] = pd.to_datetime(df[date_column], errors='coerce')\n",
                "    \n",
                "    # Count parsing failures\n",
                "    parsing_failures = df[date_column].isnull().sum() - original_nulls\n",
                "    successful_parses = len(df) - df[date_column].isnull().sum()\n",
                "    \n",
                "    # Extract year and month columns\n",
                "    df['posting_year'] = df[date_column].dt.year\n",
                "    df['posting_month'] = df[date_column].dt.month\n",
                "    \n",
                "    print(f\"Date parsing results:\")\n",
                "    print(f\"  - Successfully parsed: {successful_parses} dates\")\n",
                "    print(f\"  - Parsing failures: {parsing_failures} dates\")\n",
                "    print(f\"  - Success rate: {(successful_parses/len(df)*100):.1f}%\")\n",
                "    \n",
                "    if successful_parses > 0:\n",
                "        print(f\"  - Date range: {df[date_column].min()} to {df[date_column].max()}\")\n",
                "        print(f\"  - Years covered: {sorted(df['posting_year'].dropna().unique().astype(int))}\")\n",
                "    \n",
                "    return df"
            ]
        },
        {
            "cell_type": "markdown",
            "metadata": {},
            "source": [
                "## Load and Process Data"
            ]
        },
        {
            "cell_type": "code",
            "execution_count": null,
            "metadata": {},
            "outputs": [],
            "source": [
                "# Load the raw data\n",
                "raw_data_path = '../data/raw/Wuzzuf-Jobs-Posting.csv'\n",
                "df = load_csv(raw_data_path)\n",
                "\n",
                "if df is not None:\n",
                "    print(\"\\nFirst few rows:\")\n",
                "    print(df.head())"
            ]
        },
        {
            "cell_type": "code",
            "execution_count": null,
            "metadata": {},
            "outputs": [],
            "source": [
                "# Remove unnecessary columns\n",
                "if df is not None:\n",
                "    df = remove_unnecessary_columns(df)\n",
                "    print(\"\\nColumns after removal:\")\n",
                "    print(list(df.columns))"
            ]
        },
        {
            "cell_type": "code",
            "execution_count": null,
            "metadata": {},
            "outputs": [],
            "source": [
                "# Remove duplicates\n",
                "if df is not None:\n",
                "    df = remove_duplicates(df)\n",
                "    print(f\"\\nFinal dataset shape after duplicate removal: {df.shape}\")"
            ]
        },
        {
            "cell_type": "code",
            "execution_count": null,
            "metadata": {},
            "outputs": [],
            "source": [
                "# Parse dates\n",
                "if df is not None:\n",
                "    df = parse_dates(df)\n",
                "    print(\"\\nDataset info after date parsing:\")\n",
                "    print(df.info())"
            ]
        },
        {
            "cell_type": "markdown",
            "metadata": {},
            "source": [
                "## Data Quality Report"
            ]
        },
        {
            "cell_type": "code",
            "execution_count": null,
            "metadata": {},
            "outputs": [],
            "source": [
                "def generate_data_quality_report(df):\n",
                "    \"\"\"\n",
                "    Generate a comprehensive data quality report.\n",
                "    \n",
                "    Args:\n",
                "        df (pd.DataFrame): Input dataframe\n",
                "    \"\"\"\n",
                "    print(\"=\" * 50)\n",
                "    print(\"DATA QUALITY REPORT\")\n",
                "    print(\"=\" * 50)\n",
                "    \n",
                "    print(f\"\\nDataset Overview:\")\n",
                "    print(f\"  - Total rows: {len(df):,}\")\n",
                "    print(f\"  - Total columns: {len(df.columns)}\")\n",
                "    \n",
                "    print(f\"\\nMissing Data Summary:\")\n",
                "    missing_data = df.isnull().sum()\n",
                "    missing_pct = (missing_data / len(df) * 100).round(2)\n",
                "    \n",
                "    for col in df.columns:\n",
                "        if missing_data[col] > 0:\n",
                "            print(f\"  - {col}: {missing_data[col]:,} ({missing_pct[col]}%)\")\n",
                "    \n",
                "    if 'Job Posting Date' in df.columns:\n",
                "        valid_dates = df['Job Posting Date'].notna().sum()\n",
                "        print(f\"\\nDate Parsing Success:\")\n",
                "        print(f\"  - Valid dates: {valid_dates:,} ({(valid_dates/len(df)*100):.1f}%)\")\n",
                "    \n",
                "    print(f\"\\nKey Statistics:\")\n",
                "    if 'Job Posting ID' in df.columns:\n",
                "        unique_jobs = df['Job Posting ID'].nunique()\n",
                "        print(f\"  - Unique job postings: {unique_jobs:,}\")\n",
                "    \n",
                "    if 'Company Name' in df.columns:\n",
                "        unique_companies = df['Company Name'].nunique()\n",
                "        print(f\"  - Unique companies: {unique_companies:,}\")\n",
                "    \n",
                "    if 'Job Title' in df.columns:\n",
                "        unique_titles = df['Job Title'].nunique()\n",
                "        print(f\"  - Unique job titles: {unique_titles:,}\")\n",
                "\n",
                "# Generate the report\n",
                "if df is not None:\n",
                "    generate_data_quality_report(df)"
            ]
        }
    ],
    "metadata": {
        "kernelspec": {
            "display_name": "Python 3",
            "language": "python",
            "name": "python3"
        },
        "language_info": {
            "codemirror_mode": {
                "name": "ipython",
                "version": 3
            },
            "file_extension": ".py",
            "mimetype": "text/x-python",
            "name": "python",
            "nbconvert_exporter": "python",
            "pygments_lexer": "ipython3",
            "version": "3.10.0"
        }
    },
    "nbformat": 4,
    "nbformat_minor": 4
}
